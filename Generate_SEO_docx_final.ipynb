{
  "nbformat": 4,
  "nbformat_minor": 0,
  "metadata": {
    "colab": {
      "name": "Generate SEO docx-final.ipynb",
      "provenance": [],
      "include_colab_link": true
    },
    "kernelspec": {
      "name": "python3",
      "display_name": "Python 3"
    }
  },
  "cells": [
    {
      "cell_type": "markdown",
      "metadata": {
        "id": "view-in-github",
        "colab_type": "text"
      },
      "source": [
        "<a href=\"https://colab.research.google.com/github/akash-yede/Python-SEO-solutions/blob/main/Generate_SEO_docx_final.ipynb\" target=\"_parent\"><img src=\"https://colab.research.google.com/assets/colab-badge.svg\" alt=\"Open In Colab\"/></a>"
      ]
    },
    {
      "cell_type": "markdown",
      "metadata": {
        "id": "UkIqda9nJ8p2"
      },
      "source": [
        "#**Generate Client reports from a Word template using Python**"
      ]
    },
    {
      "cell_type": "markdown",
      "metadata": {
        "id": "Oup4lujOLnl8"
      },
      "source": [
        "This twittorial is prepared so that marketers can generate SEO report documents with the help of a template. This template can be reused again to generate multiple reports. \n",
        "\n",
        "We will be using pyppeteer and docxtpl libraries to implement this functionality."
      ]
    },
    {
      "cell_type": "markdown",
      "metadata": {
        "id": "wgcp_Ds_QJFB"
      },
      "source": [
        "First, we install the pyppeteer, asyncio, and docxtpl libraries."
      ]
    },
    {
      "cell_type": "code",
      "metadata": {
        "id": "pLVBMdw0_rAg",
        "colab": {
          "base_uri": "https://localhost:8080/",
          "height": 926
        },
        "outputId": "475bdbbe-8a8c-48d9-9379-4c31e2ae6f17"
      },
      "source": [
        "!pip install -U git+https://github.com/pyppeteer/pyppeteer@dev\n",
        "!pip install nest_asyncio\n",
        "!pip install docxtpl"
      ],
      "execution_count": null,
      "outputs": [
        {
          "output_type": "stream",
          "text": [
            "Collecting git+https://github.com/pyppeteer/pyppeteer@dev\n",
            "  Cloning https://github.com/pyppeteer/pyppeteer (to revision dev) to /tmp/pip-req-build-zhgovtrb\n",
            "  Running command git clone -q https://github.com/pyppeteer/pyppeteer /tmp/pip-req-build-zhgovtrb\n",
            "  Installing build dependencies ... \u001b[?25l\u001b[?25hdone\n",
            "  Getting requirements to build wheel ... \u001b[?25l\u001b[?25hdone\n",
            "    Preparing wheel metadata ... \u001b[?25l\u001b[?25hdone\n",
            "Collecting appdirs<2.0.0,>=1.4.3\n",
            "  Using cached https://files.pythonhosted.org/packages/3b/00/2344469e2084fb287c2e0b57b72910309874c3245463acd6cf5e3db69324/appdirs-1.4.4-py2.py3-none-any.whl\n",
            "Collecting websockets<9.0,>=8.1\n",
            "\u001b[?25l  Downloading https://files.pythonhosted.org/packages/bb/d9/856af84843912e2853b1b6e898ac8b802989fcf9ecf8e8445a1da263bf3b/websockets-8.1-cp36-cp36m-manylinux2010_x86_64.whl (78kB)\n",
            "\u001b[K     |████████████████████████████████| 81kB 2.3MB/s \n",
            "\u001b[?25hCollecting tqdm<5.0.0,>=4.42.1\n",
            "\u001b[?25l  Downloading https://files.pythonhosted.org/packages/bd/cf/f91813073e4135c1183cadf968256764a6fe4e35c351d596d527c0540461/tqdm-4.50.2-py2.py3-none-any.whl (70kB)\n",
            "\u001b[K     |████████████████████████████████| 71kB 6.5MB/s \n",
            "\u001b[?25hCollecting pyee<8.0.0,>=7.0.1\n",
            "  Downloading https://files.pythonhosted.org/packages/64/f3/90db6276dbc6cb1defa558251acc73c8e436ca8e1e2b38ec75786278de7c/pyee-7.0.4-py2.py3-none-any.whl\n",
            "Collecting urllib3<2.0.0,>=1.25.8\n",
            "  Using cached https://files.pythonhosted.org/packages/9f/f0/a391d1463ebb1b233795cabfc0ef38d3db4442339de68f847026199e69d7/urllib3-1.25.10-py2.py3-none-any.whl\n",
            "Building wheels for collected packages: pyppeteer\n",
            "  Building wheel for pyppeteer (PEP 517) ... \u001b[?25l\u001b[?25hdone\n",
            "  Created wheel for pyppeteer: filename=pyppeteer-0.2.2-cp36-none-any.whl size=145318 sha256=e4b82b3360dfc398637e0cdae2c2c34594bcf0559cd6259d960a75d6fc0b1bfc\n",
            "  Stored in directory: /tmp/pip-ephem-wheel-cache-gh1lmows/wheels/f6/43/df/a622fde05c50bad23f6030b99df16aab7550b1c374240b6faa\n",
            "Successfully built pyppeteer\n",
            "\u001b[31mERROR: kaggle 1.5.8 has requirement urllib3<1.25,>=1.21.1, but you'll have urllib3 1.25.10 which is incompatible.\u001b[0m\n",
            "\u001b[31mERROR: datascience 0.10.6 has requirement folium==0.2.1, but you'll have folium 0.8.3 which is incompatible.\u001b[0m\n",
            "Installing collected packages: appdirs, websockets, tqdm, pyee, urllib3, pyppeteer\n",
            "  Found existing installation: tqdm 4.41.1\n",
            "    Uninstalling tqdm-4.41.1:\n",
            "      Successfully uninstalled tqdm-4.41.1\n",
            "  Found existing installation: urllib3 1.24.3\n",
            "    Uninstalling urllib3-1.24.3:\n",
            "      Successfully uninstalled urllib3-1.24.3\n",
            "Successfully installed appdirs-1.4.4 pyee-7.0.4 pyppeteer-0.2.2 tqdm-4.50.2 urllib3-1.25.10 websockets-8.1\n",
            "Requirement already satisfied: nest_asyncio in /usr/local/lib/python3.6/dist-packages (1.4.1)\n",
            "Collecting docxtpl\n",
            "  Downloading https://files.pythonhosted.org/packages/ce/63/b380eec2eb4518c956153a5456d9780a5064903aad14a58623a6d078c907/docxtpl-0.10.0-py2.py3-none-any.whl\n",
            "Requirement already satisfied: six in /usr/local/lib/python3.6/dist-packages (from docxtpl) (1.15.0)\n",
            "Collecting python-docx\n",
            "\u001b[?25l  Downloading https://files.pythonhosted.org/packages/e4/83/c66a1934ed5ed8ab1dbb9931f1779079f8bca0f6bbc5793c06c4b5e7d671/python-docx-0.8.10.tar.gz (5.5MB)\n",
            "\u001b[K     |████████████████████████████████| 5.5MB 4.0MB/s \n",
            "\u001b[?25hRequirement already satisfied: jinja2 in /usr/local/lib/python3.6/dist-packages (from docxtpl) (2.11.2)\n",
            "Requirement already satisfied: lxml in /usr/local/lib/python3.6/dist-packages (from docxtpl) (4.2.6)\n",
            "Requirement already satisfied: MarkupSafe>=0.23 in /usr/local/lib/python3.6/dist-packages (from jinja2->docxtpl) (1.1.1)\n",
            "Building wheels for collected packages: python-docx\n",
            "  Building wheel for python-docx (setup.py) ... \u001b[?25l\u001b[?25hdone\n",
            "  Created wheel for python-docx: filename=python_docx-0.8.10-cp36-none-any.whl size=184491 sha256=43781048398f341a8a629ea407408218062d5424d24eb9b91812f94e964fba10\n",
            "  Stored in directory: /root/.cache/pip/wheels/18/0b/a0/1dd62ff812c857c9e487f27d80d53d2b40531bec1acecfa47b\n",
            "Successfully built python-docx\n",
            "Installing collected packages: python-docx, docxtpl\n",
            "Successfully installed docxtpl-0.10.0 python-docx-0.8.10\n"
          ],
          "name": "stdout"
        }
      ]
    },
    {
      "cell_type": "markdown",
      "metadata": {
        "id": "bdmXh3lZS2qC"
      },
      "source": [
        "Next, we are installing the chromium-chromedriver to enable using chromium browser in Google collaboratory."
      ]
    },
    {
      "cell_type": "code",
      "metadata": {
        "id": "BRrg3872Dr6K",
        "colab": {
          "base_uri": "https://localhost:8080/",
          "height": 728
        },
        "outputId": "d5941733-91be-4d24-fdf1-4e5aa92b676e"
      },
      "source": [
        "!apt install chromium-chromedriver"
      ],
      "execution_count": null,
      "outputs": [
        {
          "output_type": "stream",
          "text": [
            "Reading package lists... Done\n",
            "Building dependency tree       \n",
            "Reading state information... Done\n",
            "The following additional packages will be installed:\n",
            "  chromium-browser chromium-browser-l10n chromium-codecs-ffmpeg-extra\n",
            "Suggested packages:\n",
            "  webaccounts-chromium-extension unity-chromium-extension adobe-flashplugin\n",
            "The following NEW packages will be installed:\n",
            "  chromium-browser chromium-browser-l10n chromium-chromedriver\n",
            "  chromium-codecs-ffmpeg-extra\n",
            "0 upgraded, 4 newly installed, 0 to remove and 6 not upgraded.\n",
            "Need to get 79.2 MB of archives.\n",
            "After this operation, 268 MB of additional disk space will be used.\n",
            "Get:1 http://archive.ubuntu.com/ubuntu bionic-updates/universe amd64 chromium-codecs-ffmpeg-extra amd64 85.0.4183.121-0ubuntu0.18.04.1 [1,117 kB]\n",
            "Get:2 http://archive.ubuntu.com/ubuntu bionic-updates/universe amd64 chromium-browser amd64 85.0.4183.121-0ubuntu0.18.04.1 [70.3 MB]\n",
            "Get:3 http://archive.ubuntu.com/ubuntu bionic-updates/universe amd64 chromium-browser-l10n all 85.0.4183.121-0ubuntu0.18.04.1 [3,432 kB]\n",
            "Get:4 http://archive.ubuntu.com/ubuntu bionic-updates/universe amd64 chromium-chromedriver amd64 85.0.4183.121-0ubuntu0.18.04.1 [4,415 kB]\n",
            "Fetched 79.2 MB in 9s (8,950 kB/s)\n",
            "Selecting previously unselected package chromium-codecs-ffmpeg-extra.\n",
            "(Reading database ... 144617 files and directories currently installed.)\n",
            "Preparing to unpack .../chromium-codecs-ffmpeg-extra_85.0.4183.121-0ubuntu0.18.04.1_amd64.deb ...\n",
            "Unpacking chromium-codecs-ffmpeg-extra (85.0.4183.121-0ubuntu0.18.04.1) ...\n",
            "Selecting previously unselected package chromium-browser.\n",
            "Preparing to unpack .../chromium-browser_85.0.4183.121-0ubuntu0.18.04.1_amd64.deb ...\n",
            "Unpacking chromium-browser (85.0.4183.121-0ubuntu0.18.04.1) ...\n",
            "Selecting previously unselected package chromium-browser-l10n.\n",
            "Preparing to unpack .../chromium-browser-l10n_85.0.4183.121-0ubuntu0.18.04.1_all.deb ...\n",
            "Unpacking chromium-browser-l10n (85.0.4183.121-0ubuntu0.18.04.1) ...\n",
            "Selecting previously unselected package chromium-chromedriver.\n",
            "Preparing to unpack .../chromium-chromedriver_85.0.4183.121-0ubuntu0.18.04.1_amd64.deb ...\n",
            "Unpacking chromium-chromedriver (85.0.4183.121-0ubuntu0.18.04.1) ...\n",
            "Setting up chromium-codecs-ffmpeg-extra (85.0.4183.121-0ubuntu0.18.04.1) ...\n",
            "Setting up chromium-browser (85.0.4183.121-0ubuntu0.18.04.1) ...\n",
            "update-alternatives: using /usr/bin/chromium-browser to provide /usr/bin/x-www-browser (x-www-browser) in auto mode\n",
            "update-alternatives: using /usr/bin/chromium-browser to provide /usr/bin/gnome-www-browser (gnome-www-browser) in auto mode\n",
            "Setting up chromium-chromedriver (85.0.4183.121-0ubuntu0.18.04.1) ...\n",
            "Setting up chromium-browser-l10n (85.0.4183.121-0ubuntu0.18.04.1) ...\n",
            "Processing triggers for hicolor-icon-theme (0.17-2) ...\n",
            "Processing triggers for mime-support (3.60ubuntu1) ...\n",
            "Processing triggers for man-db (2.8.3-2ubuntu0.1) ...\n"
          ],
          "name": "stdout"
        }
      ]
    },
    {
      "cell_type": "markdown",
      "metadata": {
        "id": "WW9EopXzUaot"
      },
      "source": [
        "We are using the pyppeteer library to launch any website on the browser. For generating our reports, we are using the https://developers.google.com/speed/pagespeed/insights. We are generating a report for PageSpeed Insights. \n",
        "\n",
        "This report needs some time to generate. So, we are adding a timeout for 120 seconds. \n",
        "\n",
        "The next step is that we are taking a screenshot of the report."
      ]
    },
    {
      "cell_type": "code",
      "metadata": {
        "id": "Xt4kZyMMAJ_Q"
      },
      "source": [
        "from pyppeteer import launch\n",
        "import asyncio\n",
        "import time\n",
        "import nest_asyncio\n",
        "nest_asyncio.apply()\n",
        "\n",
        "#Replace the value of the sitename with your own website's sitename.\n",
        "sitename = 'www.example.com'\n",
        "\n",
        "async def main():\n",
        "    #Launch the chromium browser. This code will run in the background.\n",
        "    browser = await launch(executablePath=\"/usr/lib/chromium-browser/chromium-browser\",args=['--no-sandbox'])\n",
        "\n",
        "    #Creating a new page on the browser\n",
        "    page = await browser.newPage()\n",
        "    await page.setViewport({ 'width': 800, 'height': 1100})\n",
        "    \n",
        "    #This code will reach the web page on the browser.\n",
        "    await page.goto('https://developers.google.com/speed/pagespeed/insights/?url='+sitename+'&tab=desktop')\n",
        "    \n",
        "    #Add a timeout for 120 seconds. This is the approximate time that the website will take to generate the report.\n",
        "    time.sleep(60)\n",
        "    \n",
        "    #Take a screenshot of the report and save it locally on colab.\n",
        "    await page.screenshot({'path': 'screenshot.png'})\n",
        "    \n",
        "    await browser.close()\n",
        "\n",
        "asyncio.get_event_loop().run_until_complete(main())"
      ],
      "execution_count": null,
      "outputs": []
    },
    {
      "cell_type": "markdown",
      "metadata": {
        "id": "O7mZhq49eDmc"
      },
      "source": [
        "We are creating a template file in docx format. We'll be using the same file to generate reports.\n",
        "\n",
        "The template file will consist of variables that we will be using to add our content from the render() method. These variables should be in the following format.\n",
        "\n",
        "{{ site_name }} and {{ result }}\n",
        "\n",
        "Find the screenshot of the content of the template file below.\n",
        "\n",
        "![image.png](data:image/png;base64,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)\n"
      ]
    },
    {
      "cell_type": "markdown",
      "metadata": {
        "id": "9iB6_ajclnSx"
      },
      "source": [
        "The final step here is to use this template file and add the content to generate a new file in .docx format. The content in our case includes the sitename and the screenshot. \n",
        "\n",
        "The final generated document is saved in your colab's local file explorer."
      ]
    },
    {
      "cell_type": "code",
      "metadata": {
        "id": "Un8yaZHrE979"
      },
      "source": [
        "from docxtpl import DocxTemplate\n",
        "from docxtpl import InlineImage\n",
        "from docx.shared import Cm\n",
        "import jinja2\n",
        "\n",
        "#Creating a template in .docx format and upload the same in colab.\n",
        "doc = DocxTemplate(\"template.docx\")\n",
        "\n",
        "#Add a sitename and result image inside context.\n",
        "context = { 'site_name' : sitename }\n",
        "result_img = InlineImage(doc,'screenshot.png', Cm(15))\n",
        "context['result'] = result_img\n",
        "\n",
        "#Adding the context inside the render() method.\n",
        "doc.render(context)\n",
        "\n",
        "#Saving a new doc with using the data from the context.\n",
        "#This is the final document that is generated.\n",
        "doc.save(\"generated_doc.docx\")"
      ],
      "execution_count": null,
      "outputs": []
    },
    {
      "cell_type": "code",
      "metadata": {
        "id": "hjbllxp7FPLO"
      },
      "source": [
        ""
      ],
      "execution_count": null,
      "outputs": []
    }
  ]
}