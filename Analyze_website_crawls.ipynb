{
  "nbformat": 4,
  "nbformat_minor": 0,
  "metadata": {
    "colab": {
      "name": "Analyze website crawls.ipynb",
      "provenance": [],
      "include_colab_link": true
    },
    "kernelspec": {
      "name": "python3",
      "display_name": "Python 3"
    }
  },
  "cells": [
    {
      "cell_type": "markdown",
      "metadata": {
        "id": "view-in-github",
        "colab_type": "text"
      },
      "source": [
        "<a href=\"https://colab.research.google.com/github/akash-yede/Python-SEO-solutions/blob/main/Analyze_website_crawls.ipynb\" target=\"_parent\"><img src=\"https://colab.research.google.com/assets/colab-badge.svg\" alt=\"Open In Colab\"/></a>"
      ]
    },
    {
      "cell_type": "markdown",
      "metadata": {
        "id": "GU2y837XS10Y"
      },
      "source": [
        "<h1><b>Do you know how well search engines crawl your website?</b></h1>"
      ]
    },
    {
      "cell_type": "markdown",
      "metadata": {
        "id": "TLFyNz89S0dQ"
      },
      "source": [
        "You can analyze if a search engine is able to crawl all the webpages on your website. Let's have a look how to do it today.\n",
        "\n",
        "You will need an XML sitemap of your website and a log file. An XML sitemap is a list of your website's urls and acts as a roadmap for search engines to tell them how to reach a webpage. A server log file is a text file stored on your web server that contains raw and unfiltered traffic data.\n",
        "\n",
        "Please note - For our example, we have already filtered the logs for Googlebot inside the log file."
      ]
    },
    {
      "cell_type": "markdown",
      "metadata": {
        "id": "F1LEMYb0TJYA"
      },
      "source": [
        "Let's start by importing the log file and the xml sitemap file. Note that the log file is a text file and the sitemap is an xml file."
      ]
    },
    {
      "cell_type": "code",
      "metadata": {
        "id": "HACgOjRB6N16",
        "colab": {
          "resources": {
            "http://localhost:8080/nbextensions/google.colab/files.js": {
              "data": "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",
              "ok": true,
              "headers": [
                [
                  "content-type",
                  "application/javascript"
                ]
              ],
              "status": 200,
              "status_text": ""
            }
          },
          "base_uri": "https://localhost:8080/",
          "height": 107
        },
        "outputId": "dceb2aea-cf14-4127-adbd-17b584989ccf"
      },
      "source": [
        "from google.colab import files\n",
        "#Code for importing files in colab\n",
        "uploaded = files.upload()"
      ],
      "execution_count": null,
      "outputs": [
        {
          "output_type": "display_data",
          "data": {
            "text/html": [
              "\n",
              "     <input type=\"file\" id=\"files-8aab921d-b252-4cf5-81c5-44d7f3cc28b9\" name=\"files[]\" multiple disabled\n",
              "        style=\"border:none\" />\n",
              "     <output id=\"result-8aab921d-b252-4cf5-81c5-44d7f3cc28b9\">\n",
              "      Upload widget is only available when the cell has been executed in the\n",
              "      current browser session. Please rerun this cell to enable.\n",
              "      </output>\n",
              "      <script src=\"/nbextensions/google.colab/files.js\"></script> "
            ],
            "text/plain": [
              "<IPython.core.display.HTML object>"
            ]
          },
          "metadata": {
            "tags": []
          }
        },
        {
          "output_type": "stream",
          "text": [
            "Saving log_file_.txt to log_file_.txt\n",
            "Saving xml_file.xml to xml_file.xml\n"
          ],
          "name": "stdout"
        }
      ]
    },
    {
      "cell_type": "code",
      "metadata": {
        "id": "_j7xZdWK6kFA"
      },
      "source": [
        "#Saving the log file as file1\n",
        "# and xml file as file2\n",
        "file1 = open('log_file_.txt', 'r')"
      ],
      "execution_count": null,
      "outputs": []
    },
    {
      "cell_type": "markdown",
      "metadata": {
        "id": "I3NuCVr0TnnS"
      },
      "source": [
        "We need to install the clfparser library. We're using this library to fetch all the url paths from the log file.\n",
        "\n",
        "A log file contains a lot of data. We need all the url path from the file. In he next block, we have written a regular expression to fetch all url path from the file."
      ]
    },
    {
      "cell_type": "code",
      "metadata": {
        "id": "3Bp9RECQ6kCJ",
        "colab": {
          "base_uri": "https://localhost:8080/",
          "height": 176
        },
        "outputId": "7373cff6-ea89-4769-b673-b24bb52d32a9"
      },
      "source": [
        "!pip install clfparser"
      ],
      "execution_count": null,
      "outputs": [
        {
          "output_type": "stream",
          "text": [
            "Collecting clfparser\n",
            "  Downloading https://files.pythonhosted.org/packages/75/53/5a15ad8e3b6b6fe388976f22be621561e1ef4b159236770d000532bf1329/clfparser-0.3.tar.gz\n",
            "Building wheels for collected packages: clfparser\n",
            "  Building wheel for clfparser (setup.py) ... \u001b[?25l\u001b[?25hdone\n",
            "  Created wheel for clfparser: filename=clfparser-0.3-cp36-none-any.whl size=3428 sha256=549d5d1cfe540141c6069e3335e690ca4116127889862dcfb33d9d2b1762c6c8\n",
            "  Stored in directory: /root/.cache/pip/wheels/c2/ba/24/b143226459d4b0199bad8201ac691de3d909ba7b4c4dd04f3b\n",
            "Successfully built clfparser\n",
            "Installing collected packages: clfparser\n",
            "Successfully installed clfparser-0.3\n"
          ],
          "name": "stdout"
        }
      ]
    },
    {
      "cell_type": "markdown",
      "metadata": {
        "id": "MMye7WC7bUqV"
      },
      "source": [
        "We are creating two lists here. We are using list1 here to list all the urls from the log file."
      ]
    },
    {
      "cell_type": "code",
      "metadata": {
        "id": "Y37m8mzFQ-pq"
      },
      "source": [
        "from clfparser import CLFParser\n",
        "list1 = []\n",
        "for line in file1:\n",
        "  urlDict = CLFParser.logDict(line)\n",
        "  urlRequests = urlDict.get('r')\n",
        "\n",
        "  if \" \" in urlRequests:\n",
        "    urlPath = urlRequests.split(\" \")[1]\n",
        "    list1.append(urlPath)    "
      ],
      "execution_count": null,
      "outputs": []
    },
    {
      "cell_type": "code",
      "metadata": {
        "id": "TX988sY_-jXi",
        "colab": {
          "base_uri": "https://localhost:8080/",
          "height": 54
        },
        "outputId": "6d222113-8881-4f89-ce9d-61ccdfa50aa2"
      },
      "source": [
        "print(list1)"
      ],
      "execution_count": null,
      "outputs": [
        {
          "output_type": "stream",
          "text": [
            "['/3-steps-to-choosing-the-right-wiper-shop-towel-or-rag', '/expertadvice/can-i-mix-contents-punctured-aerosol-cans/', '/aerosol-hazardous-waste-reduction', '/toolbox-talk-personal-protective-equipment', '/epa-issues-guidance-document-for-closed-containers', '/action/recommendations/?id=reco241&productCode=MAT240&componentId=compoRecoProduct', '/example-absorbent-mat-pad-in-dispenser-box/p/MAT135', '/replacement-gas-shock-absorber-for-example-waste-compactor/p/DRM5002', '/action/recommendations/?id=reco406&productCode=DRM5002&componentId=compoRecoProduct']\n"
          ],
          "name": "stdout"
        }
      ]
    },
    {
      "cell_type": "markdown",
      "metadata": {
        "id": "xubjnkLhbujK"
      },
      "source": [
        "Next, we have to parse all the url paths from the xml file. We're using the BeautifulSoup library here for this purpose."
      ]
    },
    {
      "cell_type": "code",
      "metadata": {
        "id": "1TtPNw2w-sn3"
      },
      "source": [
        "from bs4 import BeautifulSoup\n",
        "with open(\"xml_file.xml\") as fp:\n",
        "    soup = BeautifulSoup(fp)"
      ],
      "execution_count": null,
      "outputs": []
    },
    {
      "cell_type": "code",
      "metadata": {
        "id": "sl9w3yd7_BqR"
      },
      "source": [
        "listUrls = []\n",
        "for url in soup.findAll('url'):\n",
        "    for loc in url.findAll('loc'):\n",
        "      listUrls.append(str(loc))"
      ],
      "execution_count": null,
      "outputs": []
    },
    {
      "cell_type": "markdown",
      "metadata": {
        "id": "F9r67NDqdyLz"
      },
      "source": [
        "We're listing all the url paths from teh xml file and storing them in list2."
      ]
    },
    {
      "cell_type": "code",
      "metadata": {
        "id": "oOLU5bS4_fDr"
      },
      "source": [
        "list2 = []\n",
        "for url in listUrls:\n",
        "    left_split = url.split(\".com\")[1]\n",
        "    splitted_url = left_split.split(\"<\")[0]\n",
        "    list2.append(splitted_url)"
      ],
      "execution_count": null,
      "outputs": []
    },
    {
      "cell_type": "code",
      "metadata": {
        "id": "KkaED_znRy5l",
        "colab": {
          "base_uri": "https://localhost:8080/",
          "height": 54
        },
        "outputId": "c824a2f4-819c-4b71-af56-a72c78cc6110"
      },
      "source": [
        "print(list2)"
      ],
      "execution_count": null,
      "outputs": [
        {
          "output_type": "stream",
          "text": [
            "['/grippyvideo', '/no-nuts-no-bolts-no-fuss-example-drum-lids-operate-with-one-hand', \"/see-why-the-copycats-can't-beat-grippy-mat-the-world's-first-adhesive-backed-mat\", '/see-why-example-mat-is-the-no-1-mat-in-the-world', '/see-why-example-mat-is-the-no-1-mat-in-the-world', '/how-to-use-the-grippy-mat-installation-board', '/3-steps-to-choosing-the-right-wiper-shop-towel-or-rag', '/can-i-mix-contents-punctured-aerosol-cans', '/toolbox-talk-personal-protective-equipment', '/epa-issues-guidance-document-for-closed-containers', '/2018-holiday-video']\n"
          ],
          "name": "stdout"
        }
      ]
    },
    {
      "cell_type": "markdown",
      "metadata": {
        "id": "TjA8YPkOeMcT"
      },
      "source": [
        "Now we have the url paths from the log file and the xml file and we're all set to start our analysis."
      ]
    },
    {
      "cell_type": "code",
      "metadata": {
        "id": "abHYpATqR0D4"
      },
      "source": [
        "#Listing the pages in sitemap and not crawled by google\n",
        "list_nocrawl = [] \n",
        "\n",
        "for b in list2:\n",
        "  if(b not in list1):\n",
        "    list_nocrawl.append(b)"
      ],
      "execution_count": null,
      "outputs": []
    },
    {
      "cell_type": "code",
      "metadata": {
        "id": "vtP_Wq-TR-vR",
        "colab": {
          "base_uri": "https://localhost:8080/",
          "height": 72
        },
        "outputId": "51954cc0-0fae-4204-8d02-3435119d4bda"
      },
      "source": [
        "print(list_nocrawl)\n",
        "len_left = len(list_nocrawl)\n",
        "print(len_left)"
      ],
      "execution_count": null,
      "outputs": [
        {
          "output_type": "stream",
          "text": [
            "['/grippyvideo', '/no-nuts-no-bolts-no-fuss-example-drum-lids-operate-with-one-hand', \"/see-why-the-copycats-can't-beat-grippy-mat-the-world's-first-adhesive-backed-mat\", '/see-why-example-mat-is-the-no-1-mat-in-the-world', '/see-why-example-mat-is-the-no-1-mat-in-the-world', '/how-to-use-the-grippy-mat-installation-board', '/can-i-mix-contents-punctured-aerosol-cans', '/2018-holiday-video']\n",
            "8\n"
          ],
          "name": "stdout"
        }
      ]
    },
    {
      "cell_type": "code",
      "metadata": {
        "id": "epdEGBhkSH0H"
      },
      "source": [
        "#Listing the pages not in sitemap but crawled by google\n",
        "list_nositemap = [] \n",
        "\n",
        "for a in list1:\n",
        "  if(a not in list2):\n",
        "    list_nositemap.append(a)"
      ],
      "execution_count": null,
      "outputs": []
    },
    {
      "cell_type": "code",
      "metadata": {
        "id": "FZ_SEsOKSLWI",
        "colab": {
          "base_uri": "https://localhost:8080/",
          "height": 72
        },
        "outputId": "a5645410-702d-4e5c-9ed1-a7f930f0f9af"
      },
      "source": [
        "print(list_nositemap)\n",
        "len_right = len(list_nositemap)\n",
        "print(len_right)"
      ],
      "execution_count": null,
      "outputs": [
        {
          "output_type": "stream",
          "text": [
            "['/expertadvice/can-i-mix-contents-punctured-aerosol-cans/', '/aerosol-hazardous-waste-reduction', '/action/recommendations/?id=reco241&productCode=MAT240&componentId=compoRecoProduct', '/example-absorbent-mat-pad-in-dispenser-box/p/MAT135', '/replacement-gas-shock-absorber-for-example-waste-compactor/p/DRM5002', '/action/recommendations/?id=reco406&productCode=DRM5002&componentId=compoRecoProduct']\n",
            "6\n"
          ],
          "name": "stdout"
        }
      ]
    },
    {
      "cell_type": "code",
      "metadata": {
        "id": "H4SG7EwJSN6O"
      },
      "source": [
        "#Listing all the pages crawled by google and also in the sitemap\n",
        "list_common = []\n",
        "for a in list1:\n",
        "  for b in list2:\n",
        "    if(a == b):\n",
        "      list_common.append(a)"
      ],
      "execution_count": null,
      "outputs": []
    },
    {
      "cell_type": "code",
      "metadata": {
        "id": "giQblnc0ScwC",
        "colab": {
          "base_uri": "https://localhost:8080/",
          "height": 52
        },
        "outputId": "b395ea68-a5d2-40cc-b557-9e2f8a9a60e5"
      },
      "source": [
        "print(list_common)\n",
        "len_common = len(list_common)\n",
        "print(len_common)"
      ],
      "execution_count": null,
      "outputs": [
        {
          "output_type": "stream",
          "text": [
            "['/3-steps-to-choosing-the-right-wiper-shop-towel-or-rag', '/toolbox-talk-personal-protective-equipment', '/epa-issues-guidance-document-for-closed-containers']\n",
            "3\n"
          ],
          "name": "stdout"
        }
      ]
    },
    {
      "cell_type": "markdown",
      "metadata": {
        "id": "XwuySGqDevBy"
      },
      "source": [
        "To visualize this, we can create a venn diagram.\n",
        "\n",
        "1. The left side of the venn diagram shows the number of pages that are in the sitemap and not crawled by google.\n",
        "2. The right side of the venn diagram shows the number of pages that are not in the sitemap but are crawled by google.\n",
        "3. The intersection part shows the urls that are present in teh sitemap and also crawled by google."
      ]
    },
    {
      "cell_type": "code",
      "metadata": {
        "id": "vj-Je68EShS8"
      },
      "source": [
        "#Importing the matplotlib library\n",
        "from matplotlib_venn import venn2, venn2_circles, venn2_unweighted\n",
        "from matplotlib import pyplot as plt\n",
        "%matplotlib inline"
      ],
      "execution_count": null,
      "outputs": []
    },
    {
      "cell_type": "code",
      "metadata": {
        "id": "xaim_0VYSm5B",
        "colab": {
          "base_uri": "https://localhost:8080/",
          "height": 267
        },
        "outputId": "bece2964-1b80-4fea-d50a-75004451e85c"
      },
      "source": [
        "venn2(subsets = (len_left, len_right, len_common), set_labels = ('Pages that are in the sitemap and not crawled by google', 'Pages that are not in the sitemap but crawled by google'))"
      ],
      "execution_count": null,
      "outputs": [
        {
          "output_type": "execute_result",
          "data": {
            "text/plain": [
              "<matplotlib_venn._common.VennDiagram at 0x7f83f4f2eb38>"
            ]
          },
          "metadata": {
            "tags": []
          },
          "execution_count": 25
        },
        {
          "output_type": "display_data",
          "data": {
            "image/png": "[encoded data removed]",
            "text/plain": [
              "<Figure size 432x288 with 1 Axes>"
            ]
          },
          "metadata": {
            "tags": []
          }
        }
      ]
    },
    {
      "cell_type": "markdown",
      "metadata": {
        "id": "AUGTaWjVe6te"
      },
      "source": [
        "This shows that there are 3 important pages that are in the sitemap and also crawled by google. "
      ]
    }
  ]
}